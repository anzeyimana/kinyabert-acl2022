{
 "cells": [
  {
   "cell_type": "code",
   "execution_count": 1,
   "metadata": {
    "collapsed": true
   },
   "outputs": [
    {
     "name": "stdout",
     "output_type": "stream",
     "text": [
      "generating ./kinlpmorpholib.c\n",
      "(already up-to-date)\n",
      "the current directory is '/mnt/NVM/projects/user/kinyabert/modeling/kinyabert'\n",
      "running build_ext\n",
      "building 'kinlpmorpholib' extension\n",
      "gcc -pthread -B /home/user/anaconda3/compiler_compat -Wl,--sysroot=/ -Wsign-compare -DNDEBUG -g -fwrapv -O3 -Wall -Wstrict-prototypes -fPIC -I/home/user/anaconda3/include/python3.8 -c kinlpmorpholib.c -o ./kinlpmorpholib.o -fopenmp -D use_openmp -O3 -march=native -ffast-math\n",
      "gcc -pthread -shared -B /home/user/anaconda3/compiler_compat -L/home/user/anaconda3/lib -Wl,-rpath=/home/user/anaconda3/lib -Wl,--no-as-needed -Wl,--sysroot=/ ./kinlpmorpholib.o -lkinlp -o ./kinlpmorpholib.cpython-38-x86_64-linux-gnu.so -fopenmp\n",
      "Imports OK!\n"
     ]
    }
   ],
   "source": [
    "from kinlpmorpho import build_kinlp_morpho_lib\n",
    "\n",
    "build_kinlp_morpho_lib()\n",
    "\n",
    "from morpho_data_loaders import KBVocab, ParsedToken, AffixSetVocab,  read_corpus\n",
    "\n",
    "import torch\n",
    "\n",
    "print('Imports OK!')"
   ]
  },
  {
   "cell_type": "code",
   "execution_count": 2,
   "outputs": [
    {
     "name": "stdout",
     "output_type": "stream",
     "text": [
      "Corpus Read OK!\n"
     ]
    }
   ],
   "source": [
    "# corpus_lines = read_corpus('/mnt/NVM/KINLP/data/parsed_tfidf_corpus_2021-02-07.txt')\n",
    "\n",
    "print('Corpus Read OK!')"
   ],
   "metadata": {
    "collapsed": false,
    "pycharm": {
     "name": "#%%\n"
    }
   }
  },
  {
   "cell_type": "code",
   "execution_count": 3,
   "outputs": [
    {
     "name": "stdout",
     "output_type": "stream",
     "text": [
      "Stems:  34008\n"
     ]
    }
   ],
   "source": [
    "import torch\n",
    "kb_vocab = KBVocab()\n",
    "kbvocab_state_dict_file_path = (\"/mnt/NVM/KINLP/data/kb_vocab_state_dict_2021-02-07.pt\")\n",
    "kb_vocab.load_state_dict(torch.load(kbvocab_state_dict_file_path))\n",
    "\n",
    "print('Stems: ', len(kb_vocab.reduced_stem_vocab))"
   ],
   "metadata": {
    "collapsed": false,
    "pycharm": {
     "name": "#%%\n"
    }
   }
  },
  {
   "cell_type": "code",
   "execution_count": 4,
   "outputs": [
    {
     "name": "stdout",
     "output_type": "stream",
     "text": [
      "Data counting OK!\n"
     ]
    }
   ],
   "source": [
    "# affix_dict = dict()\n",
    "# affix_txt_dict = dict()\n",
    "# for id,line in enumerate(corpus_lines):\n",
    "#     splits = line.split('; ')\n",
    "#     if (len(splits) > 0):\n",
    "#         if ((len(splits[0]) > 4) and ('/' in splits[0]) and (':' in splits[0])):\n",
    "#             parsed_tokens_line = [ParsedToken('_', parsed_token=t, line_num=id) for t in splits]\n",
    "#             for pt in parsed_tokens_line:\n",
    "#                 key = '-'.join([str(af) for af in pt.affixes_idx]) if (len(pt.affixes_idx)>0) else 'N/A'\n",
    "#                 txt_key = '-'.join([kb_vocab.affix_vocab_idx[af] for af in pt.affixes_idx]) if (len(pt.affixes_idx)>0) else 'N/A'\n",
    "#                 val = 0\n",
    "#                 if key in affix_dict:\n",
    "#                     val = affix_dict[key]\n",
    "#                 affix_dict[key] = val + 1\n",
    "#                 affix_txt_dict[txt_key] = val + 1\n",
    "#\n",
    "# sorted_affix_dict = {k: v for k, v in sorted(affix_dict.items(), key=lambda item: item[1])}\n",
    "# sorted_affix_txt_dict = {k: v for k, v in sorted(affix_txt_dict.items(), key=lambda item: item[1])}\n",
    "#\n",
    "# del corpus_lines\n",
    "\n",
    "print('Data counting OK!')"
   ],
   "metadata": {
    "collapsed": false,
    "pycharm": {
     "name": "#%%\n"
    }
   }
  },
  {
   "cell_type": "code",
   "execution_count": 9,
   "outputs": [],
   "source": [
    "# sorted_affix_dict = {k: v for k, v in sorted(affix_dict.items(), reverse=True, key=lambda item: item[1])}\n",
    "# sorted_affix_txt_dict = {('-'.join([kb_vocab.affix_vocab_idx[int(x)] if (k!='N/A') else k for x in k.split('-')])): v for k, v in sorted(affix_dict.items(), reverse=True, key=lambda item: item[1])}"
   ],
   "metadata": {
    "collapsed": false,
    "pycharm": {
     "name": "#%%\n"
    }
   }
  },
  {
   "cell_type": "code",
   "execution_count": 5,
   "outputs": [
    {
     "name": "stdout",
     "output_type": "stream",
     "text": [
      "Output files OK!\n"
     ]
    }
   ],
   "source": [
    "# f = open(\"/home/user/Desktop/Desk/sorted_affix_dict.csv\", \"w\")\n",
    "# for k in sorted_affix_dict:\n",
    "#     f.write(k+\",\"+str(sorted_affix_dict[k])+\"\\n\")\n",
    "# f.close()\n",
    "#\n",
    "# f = open(\"/home/user/Desktop/Desk/sorted_affix_txt_dict.csv\", \"w\")\n",
    "# for k in sorted_affix_txt_dict:\n",
    "#     f.write(k+\",\"+str(sorted_affix_txt_dict[k])+\"\\n\")\n",
    "# f.close()\n",
    "\n",
    "print('Output files OK!')"
   ],
   "metadata": {
    "collapsed": false,
    "pycharm": {
     "name": "#%%\n"
    }
   }
  },
  {
   "cell_type": "code",
   "execution_count": 4,
   "outputs": [],
   "source": [
    "import progressbar\n",
    "\n",
    "def reduce_affix_set_vocab(sorted_affix_dict_obj, N):\n",
    "    sorted_affix_list = [(x,sorted_affix_dict_obj[x]) for x in sorted_affix_dict_obj]\n",
    "    reduced_affix_list = sorted_affix_list[:N]\n",
    "    # Make least frequent afsets better candidates for dictionary reduction\n",
    "    reduced_affix_list.reverse()\n",
    "    discarded_affix_list = sorted_affix_list[N:]\n",
    "    reduced_affix_dict = {k:v for (k,v) in reduced_affix_list}\n",
    "    reduced_affix_dict_map = {k:k for (k,v) in reduced_affix_list}\n",
    "\n",
    "    reduced_affix_sets = {k:set([int(i) for i in k.split('-') if k!='N/A']) for (k,v) in reduced_affix_list}\n",
    "    discarded_affix_sets = {k:set([int(i) for i in k.split('-') if k!='N/A']) for (k,v) in discarded_affix_list}\n",
    "\n",
    "    idx = 0\n",
    "    with progressbar.ProgressBar(initial_value=0, max_value=len(discarded_affix_sets), redirect_stdout=True) as bar:\n",
    "        for k in discarded_affix_sets:\n",
    "            bar.update(idx)\n",
    "            idx += 1\n",
    "            s = discarded_affix_sets[k]\n",
    "            len_vals = [num for num in range(1,len(s))]\n",
    "            len_vals.reverse()\n",
    "            if len_vals is None:\n",
    "                len_vals = []\n",
    "            for n in len_vals:\n",
    "                for kk in reduced_affix_sets:\n",
    "                    ss = reduced_affix_sets[kk]\n",
    "                    if (len(ss)==n):\n",
    "                        if ss.issubset(s):\n",
    "                            reduced_affix_dict_map[k]=kk\n",
    "                            break\n",
    "                if k in reduced_affix_dict_map:\n",
    "                    break\n",
    "            if not k in reduced_affix_dict_map:\n",
    "                reduced_affix_dict_map[k] = 'N/A'\n",
    "            reduced_affix_dict[reduced_affix_dict_map[k]] = reduced_affix_dict[reduced_affix_dict_map[k]] + sorted_affix_dict_obj[k]\n",
    "    return reduced_affix_dict, reduced_affix_dict_map\n"
   ],
   "metadata": {
    "collapsed": false,
    "pycharm": {
     "name": "#%%\n"
    }
   }
  },
  {
   "cell_type": "code",
   "execution_count": 5,
   "outputs": [
    {
     "name": "stdout",
     "output_type": "stream",
     "text": [
      "218468\n"
     ]
    }
   ],
   "source": [
    "f = open('/home/user/Desktop/Desk/sorted_affix_dict.csv', 'r+')\n",
    "dict_lines = [line.rstrip('\\n') for line in f]\n",
    "f.close()\n",
    "sorted_affix_dict = {(l.split(',')[0]):int(l.split(',')[1]) for l in dict_lines if len(l)>0}\n",
    "print(len(sorted_affix_dict))"
   ],
   "metadata": {
    "collapsed": false,
    "pycharm": {
     "name": "#%%"
    }
   }
  },
  {
   "cell_type": "code",
   "execution_count": 6,
   "outputs": [
    {
     "name": "stdout",
     "output_type": "stream",
     "text": [
      "MAX_NUM_SETS: 34008\n"
     ]
    },
    {
     "name": "stderr",
     "output_type": "stream",
     "text": [
      "100% (184460 of 184460) |################| Elapsed Time: 0:11:03 Time:  0:11:03\n"
     ]
    },
    {
     "name": "stdout",
     "output_type": "stream",
     "text": [
      "Reduction OK!\n"
     ]
    }
   ],
   "source": [
    "MAX_NUM_SETS = len(kb_vocab.reduced_stem_vocab) #30000\n",
    "print('MAX_NUM_SETS:', MAX_NUM_SETS)\n",
    "\n",
    "reduced_affix_dict, reduced_affix_dict_map = reduce_affix_set_vocab(sorted_affix_dict, MAX_NUM_SETS)\n",
    "\n",
    "print('Reduction OK!')"
   ],
   "metadata": {
    "collapsed": false,
    "pycharm": {
     "name": "#%%\n"
    }
   }
  },
  {
   "cell_type": "code",
   "execution_count": 11,
   "outputs": [
    {
     "name": "stdout",
     "output_type": "stream",
     "text": [
      "34008\n",
      "218468\n"
     ]
    }
   ],
   "source": [
    "print(len(reduced_affix_dict))\n",
    "print(len(reduced_affix_dict_map))"
   ],
   "metadata": {
    "collapsed": false,
    "pycharm": {
     "name": "#%%\n"
    }
   }
  },
  {
   "cell_type": "code",
   "execution_count": 12,
   "outputs": [],
   "source": [
    "reduced_affix_txt_dict = {('-'.join([kb_vocab.affix_vocab_idx[int(x)] if (k!='N/A') else k for x in k.split('-')])): reduced_affix_dict[k] for k in reduced_affix_dict}\n",
    "\n",
    "reduced_affix_txt_dict_map = {('-'.join([kb_vocab.affix_vocab_idx[int(x)] if (k!='N/A') else k for x in k.split('-')])) : ('-'.join([kb_vocab.affix_vocab_idx[int(x)] if (reduced_affix_dict_map[k]!='N/A') else reduced_affix_dict_map[k] for x in reduced_affix_dict_map[k].split('-')])) for k in reduced_affix_dict_map}"
   ],
   "metadata": {
    "collapsed": false,
    "pycharm": {
     "name": "#%%\n"
    }
   }
  },
  {
   "cell_type": "code",
   "execution_count": 13,
   "outputs": [],
   "source": [
    "f = open(\"/home/user/Desktop/Desk/reduced_affix_dict_\"+str(MAX_NUM_SETS)+\".csv\", \"w\")\n",
    "\n",
    "reverse_list = [k for k in reduced_affix_dict]\n",
    "reverse_list.reverse()\n",
    "for k in reverse_list:\n",
    "    f.write(k+\",\"+str(reduced_affix_dict[k])+\"\\n\")\n",
    "f.close()\n",
    "\n",
    "f = open(\"/home/user/Desktop/Desk/reduced_affix_dict_map_\"+str(MAX_NUM_SETS)+\".csv\", \"w\")\n",
    "\n",
    "for k in reduced_affix_dict_map:\n",
    "    f.write(k+\",\"+reduced_affix_dict_map[k]+\"\\n\")\n",
    "f.close()\n",
    "\n",
    "f = open(\"/home/user/Desktop/Desk/reduced_affix_txt_dict_\"+str(MAX_NUM_SETS)+\".csv\", \"w\")\n",
    "reverse_list = [k for k in reduced_affix_txt_dict]\n",
    "reverse_list.reverse()\n",
    "for k in reverse_list:\n",
    "    f.write(k+\",\"+str(reduced_affix_txt_dict[k])+\"\\n\")\n",
    "f.close()\n",
    "\n",
    "f = open(\"/home/user/Desktop/Desk/reduced_affix_txt_dict_map_\"+str(MAX_NUM_SETS)+\".csv\", \"w\")\n",
    "for k in reduced_affix_txt_dict_map:\n",
    "    f.write(k+\",\"+reduced_affix_txt_dict_map[k]+\"\\n\")\n",
    "f.close()"
   ],
   "metadata": {
    "collapsed": false,
    "pycharm": {
     "name": "#%%\n"
    }
   }
  },
  {
   "cell_type": "code",
   "execution_count": 10,
   "outputs": [
    {
     "name": "stdout",
     "output_type": "stream",
     "text": [
      "Reading affix_set_vocab ...\n",
      "affix_set_vocab read OK!\n"
     ]
    }
   ],
   "source": [
    "print('Reading affix_set_vocab ...')\n",
    "\n",
    "affix_set_vocab = AffixSetVocab(reduced_affix_dict_file='/mnt/NVM/KINLP/data/reduced_affix_dict_'+str(MAX_NUM_SETS)+'.csv',\n",
    "              reduced_affix_dict_map_file='/mnt/NVM/KINLP/data/reduced_affix_dict_map_'+str(MAX_NUM_SETS)+'.csv')\n",
    "\n",
    "print('affix_set_vocab read OK!')\n",
    "\n",
    "# torch.save(affix_set_vocab.state_dict(),'/mnt/NVM/KINLP/data/affix_set_vocab_2021-08-13.pt')\n",
    "#\n",
    "# print('affix_set_vocab save OK!')"
   ],
   "metadata": {
    "collapsed": false,
    "pycharm": {
     "name": "#%%\n"
    }
   }
  },
  {
   "cell_type": "code",
   "execution_count": null,
   "outputs": [],
   "source": [],
   "metadata": {
    "collapsed": false,
    "pycharm": {
     "name": "#%%\n"
    }
   }
  }
 ],
 "metadata": {
  "kernelspec": {
   "display_name": "Python 3",
   "language": "python",
   "name": "python3"
  },
  "language_info": {
   "codemirror_mode": {
    "name": "ipython",
    "version": 2
   },
   "file_extension": ".py",
   "mimetype": "text/x-python",
   "name": "python",
   "nbconvert_exporter": "python",
   "pygments_lexer": "ipython2",
   "version": "2.7.6"
  }
 },
 "nbformat": 4,
 "nbformat_minor": 0
}