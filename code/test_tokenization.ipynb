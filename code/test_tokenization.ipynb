{
 "cells": [
  {
   "cell_type": "code",
   "execution_count": 1,
   "metadata": {
    "collapsed": true
   },
   "outputs": [],
   "source": [
    "from __future__ import print_function, division\n",
    "\n",
    "from datetime import datetime\n",
    "\n",
    "import torch\n",
    "\n",
    "from fairseq.models.roberta import RobertaModel\n",
    "from fairseq.models.roberta import XLMRModel\n",
    "\n",
    "# @Workstation-PC\n",
    "home_path = \"/home/user/KINLP/\"\n",
    "USE_GPU = True\n",
    "\n",
    "from fairseq.data.encoders import register_bpe\n",
    "\n",
    "@register_bpe(\"nonebpe\")\n",
    "class NoneBPE(object):\n",
    "\n",
    "    @staticmethod\n",
    "    def add_args(parser):\n",
    "        pass\n",
    "\n",
    "    def __init__(self, args):\n",
    "        pass\n",
    "\n",
    "    def encode(self, x: str) -> str:\n",
    "        return x\n",
    "\n",
    "    def decode(self, x: str) -> str:\n",
    "        return x"
   ]
  },
  {
   "cell_type": "code",
   "execution_count": 2,
   "outputs": [],
   "source": [
    "roberta = RobertaModel.from_pretrained(\"/mnt/NVM/KinyaBERT_Checkpoints/roberta-kinlp/\", checkpoint_file='checkpoint790.pt', bpe=\"nonebpe\")\n",
    "xlmr = XLMRModel.from_pretrained(\"/mnt/NVM/KinyaBERT_Checkpoints/xlmr.base/\", checkpoint_file='model.pt', bpe=\"nonebpe\")"
   ],
   "metadata": {
    "collapsed": false,
    "pycharm": {
     "name": "#%%\n"
    }
   }
  },
  {
   "cell_type": "code",
   "execution_count": 3,
   "outputs": [
    {
     "name": "stdout",
     "output_type": "stream",
     "text": [
      "bpe: [['tugend@@', 'ane'], ['twese'], [\"n'\"], ['abandi']]\n",
      "spm: [['▁tug', 'enda', 'ne'], ['▁tw', 'ese'], ['▁n', \"'\"], ['▁ab', 'andi']]\n"
     ]
    }
   ],
   "source": [
    "import fastBPE\n",
    "import sentencepiece\n",
    "\n",
    "codes_path=\"/home/user/projects/user/kinyabert/fastBPE/rw_codes\"\n",
    "vocab_path=\"/home/user/projects/user/kinyabert/fastBPE/vocab.rw.40000\"\n",
    "spm_model_path = \"/mnt/NVM/KinyaBERT_Checkpoints/xlmr.base/sentencepiece.bpe.model\"\n",
    "\n",
    "bpe = fastBPE.fastBPE(codes_path, vocab_path)\n",
    "spm = sentencepiece.SentencePieceProcessor(model_file=spm_model_path)\n",
    "\n",
    "input = ['tugendane', 'twese', 'n\\'','abandi']\n",
    "\n",
    "bpe_input = [w.split(' ') for w in bpe.apply(input)]\n",
    "print('bpe:',bpe_input)\n",
    "\n",
    "spm_input = spm.encode(input, out_type=str)\n",
    "\n",
    "print('spm:',spm_input)"
   ],
   "metadata": {
    "collapsed": false,
    "pycharm": {
     "name": "#%%\n"
    }
   }
  },
  {
   "cell_type": "code",
   "execution_count": 4,
   "outputs": [
    {
     "name": "stdout",
     "output_type": "stream",
     "text": [
      "bpe: ibi tubikora kuko babit@@ wemereye bitan@@ atug@@ oye\n",
      "spm: ▁ibi ▁tu bi kora ▁kuko ▁babi t we mere ye ▁bi tana tu go ye\n"
     ]
    }
   ],
   "source": [
    "inp = 'ibi tubikora kuko babitwemereye bitanatugoye'\n",
    "print('bpe:', bpe.apply([inp])[0])\n",
    "print('spm:', ' '.join(spm.encode(inp, out_type=str)))"
   ],
   "metadata": {
    "collapsed": false,
    "pycharm": {
     "name": "#%%\n"
    }
   }
  },
  {
   "cell_type": "code",
   "execution_count": 16,
   "outputs": [
    {
     "name": "stdout",
     "output_type": "stream",
     "text": [
      "bpe_in: tugend@@ ane\n",
      "spm_in: ▁tug enda ne\n",
      "roberta: tensor([    0, 36037,   551,     2])\n",
      "xlmr: tensor([    0, 33952,  7074,    86,     2])\n"
     ]
    }
   ],
   "source": [
    "bpe_in = ' '.join(bpe_input[0])\n",
    "spm_in = ' '.join(spm_input[0])\n",
    "\n",
    "print('bpe_in:',bpe_in)\n",
    "print('spm_in:',spm_in)\n",
    "\n",
    "roberta_ids = roberta.encode(bpe_in)\n",
    "xlmr_ids = xlmr.encode(spm_in)\n",
    "\n",
    "print('roberta:',roberta_ids)\n",
    "print('xlmr:',xlmr_ids)"
   ],
   "metadata": {
    "collapsed": false,
    "pycharm": {
     "name": "#%%\n"
    }
   }
  },
  {
   "cell_type": "code",
   "execution_count": 17,
   "outputs": [
    {
     "name": "stdout",
     "output_type": "stream",
     "text": [
      "roberta_features: torch.Size([1, 4, 768])\n",
      "xlmr_features: torch.Size([1, 5, 768])\n"
     ]
    }
   ],
   "source": [
    "roberta_features = roberta.extract_features(roberta_ids)\n",
    "xlmr_features = xlmr.extract_features(xlmr_ids)\n",
    "\n",
    "print('roberta_features:',roberta_features.shape)\n",
    "print('xlmr_features:',xlmr_features.shape)"
   ],
   "metadata": {
    "collapsed": false,
    "pycharm": {
     "name": "#%%\n"
    }
   }
  },
  {
   "cell_type": "code",
   "execution_count": null,
   "outputs": [],
   "source": [
    "roberta.train()\n",
    "r, rr = roberta.model(roberta_ids.unsqueeze(0), features_only=True)\n",
    "\n",
    "xlmr.train()\n",
    "x, xx = xlmr.model(xlmr_ids.unsqueeze(0), features_only=True)\n",
    "\n",
    "print('r:',r.shape)\n",
    "print('x:',x.shape)\n",
    "\n",
    "print('rr:',rr)\n",
    "print('xx:',xx)\n",
    "\n"
   ],
   "metadata": {
    "collapsed": false,
    "pycharm": {
     "name": "#%%\n"
    }
   }
  },
  {
   "cell_type": "code",
   "execution_count": 8,
   "outputs": [
    {
     "ename": "AttributeError",
     "evalue": "'RobertaHubInterface' object has no attribute 'binarize'",
     "output_type": "error",
     "traceback": [
      "\u001B[0;31m---------------------------------------------------------------------------\u001B[0m",
      "\u001B[0;31mAttributeError\u001B[0m                            Traceback (most recent call last)",
      "\u001B[0;32m<ipython-input-8-7f136bb74962>\u001B[0m in \u001B[0;36m<module>\u001B[0;34m\u001B[0m\n\u001B[1;32m      1\u001B[0m \u001B[0;31m#roberta_ids = roberta.binarize(bpe_input[0])\u001B[0m\u001B[0;34m\u001B[0m\u001B[0;34m\u001B[0m\u001B[0;34m\u001B[0m\u001B[0m\n\u001B[0;32m----> 2\u001B[0;31m \u001B[0mxlmr_ids\u001B[0m \u001B[0;34m=\u001B[0m \u001B[0mxlmr\u001B[0m\u001B[0;34m.\u001B[0m\u001B[0mbinarize\u001B[0m\u001B[0;34m(\u001B[0m\u001B[0mspm_input\u001B[0m\u001B[0;34m[\u001B[0m\u001B[0;36m0\u001B[0m\u001B[0;34m]\u001B[0m\u001B[0;34m)\u001B[0m\u001B[0;34m\u001B[0m\u001B[0;34m\u001B[0m\u001B[0m\n\u001B[0m\u001B[1;32m      3\u001B[0m \u001B[0;34m\u001B[0m\u001B[0m\n\u001B[1;32m      4\u001B[0m \u001B[0mprint\u001B[0m\u001B[0;34m(\u001B[0m\u001B[0;34m'roberta:'\u001B[0m\u001B[0;34m,\u001B[0m\u001B[0mroberta_ids\u001B[0m\u001B[0;34m)\u001B[0m\u001B[0;34m\u001B[0m\u001B[0;34m\u001B[0m\u001B[0m\n\u001B[1;32m      5\u001B[0m \u001B[0mprint\u001B[0m\u001B[0;34m(\u001B[0m\u001B[0;34m'xlmr:'\u001B[0m\u001B[0;34m,\u001B[0m\u001B[0mxlmr_ids\u001B[0m\u001B[0;34m)\u001B[0m\u001B[0;34m\u001B[0m\u001B[0;34m\u001B[0m\u001B[0m\n",
      "\u001B[0;32m~/anaconda3/lib/python3.8/site-packages/torch/nn/modules/module.py\u001B[0m in \u001B[0;36m__getattr__\u001B[0;34m(self, name)\u001B[0m\n\u001B[1;32m   1128\u001B[0m             \u001B[0;32mif\u001B[0m \u001B[0mname\u001B[0m \u001B[0;32min\u001B[0m \u001B[0mmodules\u001B[0m\u001B[0;34m:\u001B[0m\u001B[0;34m\u001B[0m\u001B[0;34m\u001B[0m\u001B[0m\n\u001B[1;32m   1129\u001B[0m                 \u001B[0;32mreturn\u001B[0m \u001B[0mmodules\u001B[0m\u001B[0;34m[\u001B[0m\u001B[0mname\u001B[0m\u001B[0;34m]\u001B[0m\u001B[0;34m\u001B[0m\u001B[0;34m\u001B[0m\u001B[0m\n\u001B[0;32m-> 1130\u001B[0;31m         raise AttributeError(\"'{}' object has no attribute '{}'\".format(\n\u001B[0m\u001B[1;32m   1131\u001B[0m             type(self).__name__, name))\n\u001B[1;32m   1132\u001B[0m \u001B[0;34m\u001B[0m\u001B[0m\n",
      "\u001B[0;31mAttributeError\u001B[0m: 'RobertaHubInterface' object has no attribute 'binarize'"
     ]
    }
   ],
   "source": [
    "roberta_ids = roberta.binarize(bpe_input[0])\n",
    "xlmr_ids = xlmr.binarize(spm_input[0])\n",
    "\n",
    "print('roberta:',roberta_ids)\n",
    "print('xlmr:',xlmr_ids)"
   ],
   "metadata": {
    "collapsed": false,
    "pycharm": {
     "name": "#%%"
    }
   }
  }
 ],
 "metadata": {
  "kernelspec": {
   "name": "python3",
   "language": "python",
   "display_name": "Python 3"
  },
  "language_info": {
   "codemirror_mode": {
    "name": "ipython",
    "version": 2
   },
   "file_extension": ".py",
   "mimetype": "text/x-python",
   "name": "python",
   "nbconvert_exporter": "python",
   "pygments_lexer": "ipython2",
   "version": "2.7.6"
  }
 },
 "nbformat": 4,
 "nbformat_minor": 0
}