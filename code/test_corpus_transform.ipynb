{
 "cells": [
  {
   "cell_type": "code",
   "execution_count": 1,
   "outputs": [
    {
     "name": "stdout",
     "output_type": "stream",
     "text": [
      "generating ./kinlpmorpholib.c\n",
      "the current directory is '/home/user/projects/user/kinyabert/modeling/kb_plain'\n",
      "running build_ext\n",
      "building 'kinlpmorpholib' extension\n",
      "gcc -pthread -B /home/user/anaconda3/compiler_compat -Wl,--sysroot=/ -Wsign-compare -DNDEBUG -g -fwrapv -O3 -Wall -Wstrict-prototypes -fPIC -I/home/user/anaconda3/include/python3.8 -c kinlpmorpholib.c -o ./kinlpmorpholib.o -fopenmp -D use_openmp -O3 -march=native -ffast-math\n",
      "gcc -pthread -shared -B /home/user/anaconda3/compiler_compat -L/home/user/anaconda3/lib -Wl,-rpath=/home/user/anaconda3/lib -Wl,--no-as-needed -Wl,--sysroot=/ ./kinlpmorpholib.o -lkinlp -o ./kinlpmorpholib.cpython-38-x86_64-linux-gnu.so -fopenmp\n",
      "_stem_vocab: 95677\n",
      "reduced_stem_vocab: 34008\n",
      "reduced_stem_vocab_idx_subsample_weights_max: 109.97302453744622\n",
      "reduced_stem_vocab_idx_subsample_weights_min: 0.14438313861524893\n",
      "affix_vocab_idx_subsample_weights_max: 109.97661663303704\n",
      "affix_vocab_idx_subsample_weights_min: 0.10404824292856545\n",
      "pos_tag_vocab_idx_subsample_weights_max: 109.97235329891613\n",
      "pos_tag_vocab_idx_subsample_weights_min: 0.08791315557053735\n",
      "morpheme_slot_vocab_idx_subsample_weights_max: 109.9766166084058\n",
      "morpheme_slot_vocab_idx_subsample_weights_min: 0.07462399526895624\n",
      "STEM-<UNK>: 0.14438313861524893\n",
      "AFFIX-<UNK>: 0.10404824292856545\n",
      "POS-<UNK>: 0.08791315557053735\n",
      "MORPH-<UNK>: 0.07462399526895624\n",
      "STEM-163: T:▁maye\n",
      "STEM-163: <UNK>\n",
      "STEM-163: 0.14438313861524893\n",
      "\n",
      "reduced_stem_vocab: [V:] 2497\n",
      "reduced_stem_vocab: [N:] 5215\n",
      "reduced_stem_vocab: [QA:] 25\n",
      "reduced_stem_vocab: [PO:] 2\n",
      "reduced_stem_vocab: [DE:] 12\n",
      "reduced_stem_vocab: [NU:] 10\n",
      "reduced_stem_vocab: [OT:] 10\n",
      "reduced_stem_vocab: [NP:] 12337\n",
      "reduced_stem_vocab: [T:] 11911\n",
      "reduced_stem_vocab: [CLS:] 1989\n",
      "\n",
      "Vocabulary ready!\n",
      "Vocab ready!\n"
     ]
    }
   ],
   "source": [
    "import torch\n",
    "import warnings\n",
    "warnings.filterwarnings(\"ignore\")\n",
    "\n",
    "import youtokentome as yttm\n",
    "from kb_data_loaders import KBVocab\n",
    "\n",
    "BPE_model_path = '/mnt/STORAGE/KINLP/data/BPE-30k.mdl'\n",
    "bpe_encoder = yttm.BPE(model=BPE_model_path)\n",
    "\n",
    "kb_vocab = KBVocab()\n",
    "kbvocab_state_dict_file_path = \"/mnt/STORAGE/KINLP/data/kb_vocab_state_dict_2021-02-07.pt\"\n",
    "kb_vocab.load_state_dict(torch.load(kbvocab_state_dict_file_path))\n",
    "\n",
    "print('_stem_vocab:', len(kb_vocab._stem_vocab))\n",
    "print('reduced_stem_vocab:', len(kb_vocab.reduced_stem_vocab))\n",
    "print('reduced_stem_vocab_idx_subsample_weights_max:', kb_vocab.reduced_stem_vocab_idx_subsample_weights_max)\n",
    "print('reduced_stem_vocab_idx_subsample_weights_min:', kb_vocab.reduced_stem_vocab_idx_subsample_weights_min)\n",
    "\n",
    "print('affix_vocab_idx_subsample_weights_max:', kb_vocab.affix_vocab_idx_subsample_weights_max)\n",
    "print('affix_vocab_idx_subsample_weights_min:', kb_vocab.affix_vocab_idx_subsample_weights_min)\n",
    "\n",
    "print('pos_tag_vocab_idx_subsample_weights_max:', kb_vocab.pos_tag_vocab_idx_subsample_weights_max)\n",
    "print('pos_tag_vocab_idx_subsample_weights_min:', kb_vocab.pos_tag_vocab_idx_subsample_weights_min)\n",
    "\n",
    "print('morpheme_slot_vocab_idx_subsample_weights_max:', kb_vocab.morpheme_slot_vocab_idx_subsample_weights_max)\n",
    "print('morpheme_slot_vocab_idx_subsample_weights_min:', kb_vocab.morpheme_slot_vocab_idx_subsample_weights_min)\n",
    "\n",
    "print('STEM-<UNK>:', kb_vocab.reduced_stem_vocab_idx_subsample_weights[kb_vocab.reduced_stem_vocab['<UNK>']])\n",
    "print('AFFIX-<UNK>:', kb_vocab.affix_vocab_idx_subsample_weights[kb_vocab.affix_vocab['<UNK>']])\n",
    "print('POS-<UNK>:', kb_vocab.pos_tag_vocab_idx_subsample_weights[kb_vocab.pos_tag_vocab['<UNK>']])\n",
    "print('MORPH-<UNK>:', kb_vocab.morpheme_slot_vocab_idx_subsample_weights[kb_vocab.morpheme_slot_vocab['<UNK>']])\n",
    "print('STEM-163:', kb_vocab._stem_vocab_idx[163])\n",
    "print('STEM-163:', kb_vocab.reduced_stem_vocab_idx[kb_vocab.mapped_stem_vocab_idx[163]])\n",
    "print('STEM-163:', kb_vocab.reduced_stem_vocab_idx_subsample_weights[kb_vocab.mapped_stem_vocab_idx[163]])\n",
    "\n",
    "print('\\nreduced_stem_vocab: [V:]', len([k for k in kb_vocab.reduced_stem_vocab if k.startswith('V:')]))\n",
    "print('reduced_stem_vocab: [N:]', len([k for k in kb_vocab.reduced_stem_vocab if k.startswith('N:')]))\n",
    "print('reduced_stem_vocab: [QA:]', len([k for k in kb_vocab.reduced_stem_vocab if k.startswith('QA:')]))\n",
    "print('reduced_stem_vocab: [PO:]', len([k for k in kb_vocab.reduced_stem_vocab if k.startswith('PO:')]))\n",
    "print('reduced_stem_vocab: [DE:]', len([k for k in kb_vocab.reduced_stem_vocab if k.startswith('DE:')]))\n",
    "print('reduced_stem_vocab: [NU:]', len([k for k in kb_vocab.reduced_stem_vocab if k.startswith('NU:')]))\n",
    "print('reduced_stem_vocab: [OT:]', len([k for k in kb_vocab.reduced_stem_vocab if k.startswith('OT:')]))\n",
    "print('reduced_stem_vocab: [NP:]', len([k for k in kb_vocab.reduced_stem_vocab if k.startswith('NP:')]))\n",
    "print('reduced_stem_vocab: [T:]', len([k for k in kb_vocab.reduced_stem_vocab if k.startswith('T:')]))\n",
    "print('reduced_stem_vocab: [CLS:]', len([k for k in kb_vocab.reduced_stem_vocab if not (k.startswith('NP:') or k.startswith('T:') or k.startswith('V:') or k.startswith('N:') or k.startswith('QA:') or k.startswith('PO:') or k.startswith('DE:') or k.startswith('NU:') or k.startswith('OT:'))]))\n",
    "print('\\nVocabulary ready!')\n",
    "\n",
    "print('Vocab ready!')"
   ],
   "metadata": {
    "collapsed": false,
    "pycharm": {
     "name": "#%%\n"
    }
   }
  },
  {
   "cell_type": "code",
   "execution_count": 2,
   "outputs": [
    {
     "name": "stdout",
     "output_type": "stream",
     "text": [
      "Done\n"
     ]
    }
   ],
   "source": [
    "kb_vocab.compute_subsampling_weights()\n",
    "kbvocab_state_dict_file_path = \"/mnt/STORAGE/KINLP/data/kb_vocab_state_dict_2021-02-07.pt\"\n",
    "torch.save(kb_vocab.state_dict(),kbvocab_state_dict_file_path)\n",
    "print('Done')"
   ],
   "metadata": {
    "collapsed": false,
    "pycharm": {
     "name": "#%%\n"
    }
   }
  },
  {
   "cell_type": "code",
   "execution_count": 11,
   "outputs": [
    {
     "name": "stdout",
     "output_type": "stream",
     "text": [
      "237160\n"
     ]
    }
   ],
   "source": [
    "morpho_rel_pos_dmax = 5\n",
    "V = [(x,y,d) for x in kb_vocab.pos_tag_vocab_idx for y in kb_vocab.pos_tag_vocab_idx for d in range(-morpho_rel_pos_dmax,morpho_rel_pos_dmax+1) if d!=0]\n",
    "morpho_rel_pos_dict = {(x,y,d):(i+1) for i,(x,y,d) in enumerate(V)}\n",
    "\n",
    "print(len(morpho_rel_pos_dict))"
   ],
   "metadata": {
    "collapsed": false,
    "pycharm": {
     "name": "#%%\n"
    }
   }
  },
  {
   "cell_type": "code",
   "execution_count": 12,
   "outputs": [
    {
     "name": "stdout",
     "output_type": "stream",
     "text": [
      "237160\n"
     ]
    }
   ],
   "source": [
    "print(len(morpho_rel_pos_dict))\n",
    "#print(morpho_rel_pos_dict)\n",
    "save_dict = {'morpho_rel_pos_dict':morpho_rel_pos_dict, 'morpho_rel_pos_dmax':morpho_rel_pos_dmax}\n",
    "morpho_rel_pos_dict_file_path = \"/mnt/STORAGE/KINLP/data/morpho_rel_pos_dict_2021-03-24.pt\"\n",
    "torch.save(save_dict,morpho_rel_pos_dict_file_path)"
   ],
   "metadata": {
    "collapsed": false,
    "pycharm": {
     "name": "#%%\n"
    }
   }
  },
  {
   "cell_type": "code",
   "execution_count": 13,
   "outputs": [
    {
     "name": "stdout",
     "output_type": "stream",
     "text": [
      "237160\n",
      "5\n"
     ]
    }
   ],
   "source": [
    "home_path = \"/mnt/STORAGE/KINLP/\"\n",
    "morpho_rel_pos_dict_file_path = (home_path+\"data/morpho_rel_pos_dict_2021-03-24.pt\")\n",
    "saved_pos_rel_dict = torch.load(morpho_rel_pos_dict_file_path)\n",
    "morpho_rel_pos_dict = saved_pos_rel_dict['morpho_rel_pos_dict']\n",
    "morpho_rel_pos_dmax = saved_pos_rel_dict['morpho_rel_pos_dmax']\n",
    "print(len(morpho_rel_pos_dict))\n",
    "print(morpho_rel_pos_dmax)"
   ],
   "metadata": {
    "collapsed": false,
    "pycharm": {
     "name": "#%%\n"
    }
   }
  }
 ],
 "metadata": {
  "kernelspec": {
   "display_name": "Python 3",
   "language": "python",
   "name": "python3"
  },
  "language_info": {
   "codemirror_mode": {
    "name": "ipython",
    "version": 2
   },
   "file_extension": ".py",
   "mimetype": "text/x-python",
   "name": "python",
   "nbconvert_exporter": "python",
   "pygments_lexer": "ipython2",
   "version": "2.7.6"
  }
 },
 "nbformat": 4,
 "nbformat_minor": 0
}